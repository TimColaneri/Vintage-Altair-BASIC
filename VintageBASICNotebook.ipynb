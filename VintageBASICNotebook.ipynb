{
 "cells": [
  {
   "cell_type": "markdown",
   "metadata": {},
   "source": [
    "# CSC402 Final Project\n",
    "## Timothy Colaneri (100652032)\n",
    "### Fall 2019"
   ]
  },
  {
   "cell_type": "markdown",
   "metadata": {},
   "source": [
    "## Project: Vintage Basic interpreter written in Python"
   ]
  },
  {
   "cell_type": "markdown",
   "metadata": {},
   "source": [
    " "
   ]
  },
  {
   "cell_type": "markdown",
   "metadata": {},
   "source": [
    "## Introduction\n",
    "Initailly, I was pretty unfamiliar with Vintage, or Altair, BASIC. I had taken a few database courses in the past in which I had the opportunity to see a few examples of code written in a few BASIC dialects, so I was not completely foreign to this language. However, I certainly did not have a expert understanding of how its syntax and semantics worked. Below is an example of a program written in this language, taken from the Vintage BASIC homepage's game section. It is a text verion of the game Russian Roulette."
   ]
  },
  {
   "cell_type": "code",
   "execution_count": 1,
   "metadata": {},
   "outputs": [],
   "source": [
    "from VintageBASIC_interp import interp"
   ]
  },
  {
   "cell_type": "code",
   "execution_count": 2,
   "metadata": {},
   "outputs": [
    {
     "name": "stdout",
     "output_type": "stream",
     "text": [
      "RUSSIAN ROULETTE\n",
      "CREATIVE COMPUTING   MORRISTOWN, NEW JERSEY\n",
      " \n",
      " \n",
      " \n",
      "This is a game of >>>>>>>>> Russian Roulette.\n",
      " \n",
      "Here is a revolver.\n",
      "Type '1' to spin the chamber and pull the trigger.\n",
      "Type '2' to give up.\n",
      "GO\n",
      "1\n",
      " - Click - \n",
      " \n",
      "1\n",
      "     BANG!!!!!! You're dead!\n",
      "Condolences will be sent to your relatives.\n",
      " \n",
      " \n",
      " \n",
      "...next victim...\n",
      "Type '1' to spin the chamber and pull the trigger.\n",
      "Type '2' to give up.\n",
      "GO\n",
      "2\n",
      "       Chicken!!!!!\n"
     ]
    }
   ],
   "source": [
    "progOne = \\\n",
    "'''\n",
    "01 PRINT \"RUSSIAN ROULETTE\"\n",
    "02 PRINT \"CREATIVE COMPUTING   MORRISTOWN, NEW JERSEY\"\n",
    "03 PRINT \" \" : PRINT \" \" : PRINT \" \"\n",
    "04 PRINT \"This is a game of >>>>>>>>> Russian Roulette.\"\n",
    "10 PRINT \" \" : PRINT \"Here is a revolver.\"\n",
    "20 PRINT \"Type '1' to spin the chamber and pull the trigger.\"\n",
    "22 PRINT \"Type '2' to give up.\"\n",
    "23 PRINT \"GO\"\n",
    "25 LET n = 0\n",
    "30 INPUT ; i\n",
    "31 IF i <> 2 THEN 35\n",
    "32 PRINT \"       Chicken!!!!!\"\n",
    "33 GOTO 99\n",
    "35 LET n = n + 1\n",
    "40 IF RND(1) > 0.83333 THEN 70\n",
    "45 IF n > 10 THEN 80\n",
    "50 PRINT \" - Click - \"\n",
    "60 PRINT \" \" : GOTO 30\n",
    "70 PRINT \"     BANG!!!!!! You're dead!\"\n",
    "71 PRINT \"Condolences will be sent to your relatives.\"\n",
    "72 PRINT \" \" : PRINT \" \" : PRINT \" \"\n",
    "75 PRINT \"...next victim...\" : GOTO 20\n",
    "80 PRINT \"You Win!!!!!\"\n",
    "85 PRINT \"Let someone else blow thier brains out.\"\n",
    "90 GOTO 10\n",
    "99 END\n",
    "'''\n",
    "interp(progOne)"
   ]
  },
  {
   "cell_type": "markdown",
   "metadata": {},
   "source": [
    "I think it makes sense here for me to explain how I handled the labeled lines within this language first as this will flow into and help describe my key data structure for interpreting the program.\n",
    "\n",
    "One of the first observations I had made after looking at sample code from this langauge is that each line in the program has an associated number attached to it. What I had originally though were probably just lines from the develpment environment turned out to be part of the actual syntax of the program.  \n",
    "  Example program 1:\n",
    "     \n",
    "     10 print \"a\"\n",
    "     20 print \"b\"\n",
    "     30 print \"c\"\n",
    "\n",
    "Each line in Vintage BASIC has a label space at the very beginning of it. These labels serve two purposes. First, they define the order in which the lines of the program should be executed. Second, they provide targets for 'jump' commands, which allow the flow of the program to change to another designated part of the program.  \n",
    "  Example Program 2: will execute the same order as example 1 due to flow control of program\n",
    "    \n",
    "    30 print \"c\"\n",
    "    10 print \"a\"\n",
    "    20 print \"b\"\n",
    "\n",
    "The language that I am interpreting in, Python, has no such flow control labels. Python executes in a traditionaly imperative way, line by line, one at a time. As such, I can't 1:1 map this behavior into Python. I will have to derive my own method of emulating this behavior.\n",
    "\n",
    "I will need to be able to index into and switch control of my program to a indicated label at any time in the program. One similiar example that we had worked on in class is the stack machine, which had label spaces. In this example we used a list, which can operate like a stack in Python, to allow us to index to a given point in the stack. A list structure would work well for indexing into certain parts of the code. However, each line in the stack machine could only have one command, making its interpreter more simple then ours will have to be, considering we can have multiple statements on a line, serperated by ':'.  \n",
    "Example Program 3:\n",
    "    \n",
    "    10 let y = 10 : print y : let x = 42 : print x\n",
    "\n",
    "In order to interpret a list of statements, we can use a tree walking structure. Similiar to many of the in class examples, we recursively walk down a tree and execute the different instructions based on the the type of node generated by grammar and parser generator(PLY). Which leads us into..\n",
    "\n",
    "#### Implementation \\ Key Data Structure\n",
    "\n",
    "By storing each line of code( label space) in a different element in a list, we will be able to index into a given point(label) of the program whenever we encounter a 'jump' command. By keeping a 1:1 parallel list of the actual labels, we will know which statement list belongs to which label.\n",
    "\n",
    "When we first take code into the interpreter, the very first part of the processing is to 'split' the program into two lists, one of labels and one of the associated code. These lists are parallel.\n",
    "\n",
    "The quicksort algorithm is then used to place these instructions in execution order which will allow far easier processing in our imperative interpretation environment.\n",
    "\n",
    "The code is then put back together in execution order and passed into the parser to populate the second list with tuples containing each lines code parallel to the label list.  \n",
    "Essentially..  \n",
    "List1 = list of label space names  \n",
    "List2 = List of label space code  \n",
    "There is a 1:1 direct parallel realationship between these lists. (ex. List1[0] and List2[0] contain the label name and code of the same label.)  \n",
    "\n",
    "Each statements implementation is expanded upon in the examples section. "
   ]
  },
  {
   "cell_type": "markdown",
   "metadata": {},
   "source": [
    "## Challenges\n",
    "I had run into quite a few more challenges then I thought I would when implementing this interpreter. I was under the impression that BASIC was a little more simplier then it turned out to be.  \n",
    "  \n",
    "  \n",
    "*** My initial implementation stored the program everytime we encountered a line into a symbol table. The way this worked was that every line's entry in the symbol table contained not only that lines code but every single following lines code. For example, the first line had the entire program stored within its table entry, the second line had the entire program minus the first line... etc..  \n",
    "This made my required memory space the summation of the space required for the input program. As we know from cominatorics, this is n^2 + n memory space(constant dropped). As we also know from lecture, the possible input set for any(or most) programming languages is infinite, there are lots of possibilities for large programs. I'm glad I was able to think of another implementation!  \n",
    "  \n",
    "  \n",
    "\n",
    "*** Besides, the previously mentioned labels, another issue I had in this language was constructing its for loops. I had to go to office hours to find a way to parse them as my initial implementation had somehow confused that parser generator. Once I had successfully parsed these statements it was pretty downhill in terms of difficulty for implementing it.  \n",
    "However... I have made an observation about Vintage BASIC for loops that I would like to share.  \n",
    "When I initially came to office hours to find a way to parse the for loops, one of my grammar ideas looked like this...\n",
    "    \n",
    "    stmt : FOR ID '=' EXP opt_step \n",
    "         | NEXT op_var\n",
    "         \n",
    "We had determined that this could not be the grammar as you would not be able to get all of the code into one tuple, in addition to the NEXT statement being a valid sentence.  \n",
    "After some research, I believe that this may be the actual implementation of the grammar (or at least something like it), meaning that Vintage BASIC does not have a static for loop structure but rather somewhat of a dynamic one.\n",
    "This raises many questions as to how such a system would work, take for example this quote from the Vintage BASIC homepage concerning the NEXT statement.  \n",
    "  \n",
    "\" How does the interpreter determine which FOR goes with the NEXT? It is determined dynamically. If the NEXT has no variable, then it is the most recently encountered non-terminated FOR. If the NEXT indicates a variable, then it is the most recently encountered non-terminated FOR with that control variable. Usually, it is simple to glance at code and see which pairs of FOR and NEXT statements go together. But due to the dynamic nature of the connection between them, it is possible to write NEXT statements that are sometimes connected with one FOR, sometimes another.\"  \n",
    "  \n",
    "As you can see, a NEXT statement may be connected to multiple FOR loops. While I'm not convinced that my above grammar is that actual implementation, I also don't think that the solution we had come to will parse such a structure. The next statement having an optional variable is very telling as well, this statement can encounter a for loop and decide that it is the wrong one to update with this variable attached. In my implementation, below, every FOR loop is connected to its own NEXT statement.\n",
    "    \n",
    "    stmt : FOR ID '=' exp opt_step stmts NEXT opt_var\n",
    "    \n",
    "*** I also had a little trouble with the RESTORE statement. I believe this problem that I ran into is the same that I had recieved help for during office hours for the FOR loop. There are two forms of RESTORE; RESTORE, and RESTORE label. I believe my grammer for RESTORE label confused the parser generator; I think that whenever it didn't encounter a label, it read the label from the following line, failing the parsing process. The RESTORE only statements works fine. Here is what this looked like in the grammar.\n",
    "    \n",
    "    stmt : RESTORE opt_int\n",
    "    \n",
    "    opt_int : INTEGER\n",
    "            | empty\n",
    "\n",
    "I expand into what I would have done differently in my conclusion at the end.\n",
    "\n"
   ]
  },
  {
   "cell_type": "code",
   "execution_count": 1,
   "metadata": {},
   "outputs": [
    {
     "name": "stderr",
     "output_type": "stream",
     "text": [
      "WARNING: Token 'NUMBER' defined, but not used\n",
      "WARNING: There is 1 unused token\n"
     ]
    }
   ],
   "source": [
    "from VintageBASIC_interp import interp"
   ]
  },
  {
   "cell_type": "markdown",
   "metadata": {},
   "source": [
    "# Examples\n",
    "## Flow Control\n",
    "My implementation for flow control was explained above. The two following examples display the interpreters ability to handle flow control. Both contain the same program, with second one having its order scrambled. They will both output in the same order."
   ]
  },
  {
   "cell_type": "code",
   "execution_count": 2,
   "metadata": {},
   "outputs": [
    {
     "name": "stdout",
     "output_type": "stream",
     "text": [
      "1\n",
      "2\n",
      "3\n",
      "4\n",
      "5\n",
      "6\n",
      "7\n",
      "8\n",
      "9\n",
      "10\n"
     ]
    }
   ],
   "source": [
    "prog = \\\n",
    "'''\n",
    "10 PRINT \"1\"\n",
    "20 PRINT \"2\"\n",
    "30 PRINT \"3\"\n",
    "40 PRINT \"4\"\n",
    "50 PRINT \"5\"\n",
    "60 PRINT \"6\"\n",
    "70 PRINT \"7\"\n",
    "80 PRINT \"8\"\n",
    "90 PRINT \"9\"\n",
    "100 PRINT \"10\"\n",
    "'''\n",
    "interp(prog)"
   ]
  },
  {
   "cell_type": "code",
   "execution_count": 3,
   "metadata": {},
   "outputs": [
    {
     "name": "stdout",
     "output_type": "stream",
     "text": [
      "1\n",
      "2\n",
      "3\n",
      "4\n",
      "5\n",
      "6\n",
      "7\n",
      "8\n",
      "9\n",
      "10\n"
     ]
    }
   ],
   "source": [
    "prog = \\\n",
    "'''\n",
    "50 PRINT \"5\"\n",
    "20 PRINT \"2\"\n",
    "40 PRINT \"4\"\n",
    "60 PRINT \"6\"\n",
    "70 PRINT \"7\"\n",
    "90 PRINT \"9\"\n",
    "10 PRINT \"1\"\n",
    "100 PRINT \"10\"\n",
    "30 PRINT \"3\"\n",
    "80 PRINT \"8\"\n",
    "'''\n",
    "interp(prog)"
   ]
  },
  {
   "cell_type": "markdown",
   "metadata": {},
   "source": [
    "As we can see, the flow control of the program was correctly executed, lets try one more example."
   ]
  },
  {
   "cell_type": "code",
   "execution_count": 4,
   "metadata": {},
   "outputs": [
    {
     "name": "stdout",
     "output_type": "stream",
     "text": [
      "1\n",
      "2\n",
      "3\n",
      "4\n",
      "5\n",
      "6\n",
      "7\n",
      "8\n",
      "9\n",
      "10\n"
     ]
    }
   ],
   "source": [
    "prog = \\\n",
    "'''\n",
    "10 PRINT \"1\"\n",
    "20 PRINT \"2\"\n",
    "30 GOTO 80\n",
    "40 PRINT \"5\"\n",
    "50 PRINT \"6\"\n",
    "60 PRINT \"7\"\n",
    "70 GOTO 110\n",
    "80 PRINT \"3\"\n",
    "90 PRINT \"4\"\n",
    "100 GOTO 40\n",
    "110 PRINT \"8\"\n",
    "120 GOTO 140\n",
    "130 PRINT \"-1\"\n",
    "140 PRINT \"9\"\n",
    "150 PRINT \"10\"\n",
    "'''\n",
    "interp(prog)"
   ]
  },
  {
   "cell_type": "markdown",
   "metadata": {},
   "source": [
    "We see we can handle the flow of jumps here. Lets try scrambling this program!"
   ]
  },
  {
   "cell_type": "code",
   "execution_count": 8,
   "metadata": {},
   "outputs": [
    {
     "name": "stdout",
     "output_type": "stream",
     "text": [
      "1\n",
      "2\n",
      "3\n",
      "4\n",
      "5\n",
      "6\n",
      "7\n",
      "8\n",
      "9\n",
      "10\n"
     ]
    }
   ],
   "source": [
    "prog = \\\n",
    "'''\n",
    "130 PRINT \"-1\"\n",
    "30 GOTO 80\n",
    "60 PRINT \"7\"\n",
    "10 PRINT \"1\"\n",
    "80 PRINT \"3\"\n",
    "40 PRINT \"5\"\n",
    "140 PRINT \"9\"\n",
    "120 GOTO 140\n",
    "50 PRINT \"6\"\n",
    "150 PRINT \"10\"\n",
    "70 GOTO 110\n",
    "90 PRINT \"4\"\n",
    "110 PRINT \"8\"\n",
    "20 PRINT \"2\"\n",
    "100 GOTO 40\n",
    "'''\n",
    "interp(prog)"
   ]
  },
  {
   "cell_type": "markdown",
   "metadata": {},
   "source": [
    "\n",
    "## Statements"
   ]
  },
  {
   "cell_type": "markdown",
   "metadata": {},
   "source": [
    "### DATA / READ / RESTORE\n",
    "\n",
    "My implementation utilizes a queue structure in order to emulate the way the data statement 'holds' memory for the read statement. The queue is part of the state object. A backup queue is also kept and holds the last data statements data for use with the restore statement. \n",
    "\n",
    "#### Data Statement\n",
    "The data statement supplies data for the read statement. Data entered into the data statement is held in memory until a read statement is encountered.\n",
    "#### Read Statement\n",
    "The read statement takes data from memory and stores it into its varaibles. If there is no data left to assign, an exception is thrown.\n",
    "#### Restore Statement\n",
    "The restore statement restores the data from the last data statement back into memory."
   ]
  },
  {
   "cell_type": "code",
   "execution_count": 9,
   "metadata": {},
   "outputs": [
    {
     "name": "stdout",
     "output_type": "stream",
     "text": [
      "abc def ghi jkl\n",
      "12 34 56 789\n"
     ]
    }
   ],
   "source": [
    "prog = \\\n",
    "'''\n",
    "05 DATA \"abc\",\"def\",\"ghi\",\"jkl\"\n",
    "06 READ e,f,g,h\n",
    "10 DATA 12 , 34 , 56 , 789\n",
    "20 READ a,b,c,d\n",
    "25 PRINT e;f;g;h\n",
    "30 PRINT a;b;c;d\n",
    "'''\n",
    "interp(prog)"
   ]
  },
  {
   "cell_type": "markdown",
   "metadata": {},
   "source": [
    "Here we can see that the data has been successfully stored in the varaibles through the read and data statements."
   ]
  },
  {
   "cell_type": "code",
   "execution_count": 10,
   "metadata": {},
   "outputs": [
    {
     "name": "stdout",
     "output_type": "stream",
     "text": [
      "123 456 789\n",
      "123 456 789\n"
     ]
    }
   ],
   "source": [
    "prog = \\\n",
    "'''\n",
    "10 DATA 123 , 456 , 789\n",
    "20 READ a,b,c\n",
    "30 PRINT a;b;c\n",
    "40 RESTORE\n",
    "50 READ d,e,f\n",
    "60 PRINT d;e;f\n",
    "'''\n",
    "interp(prog)"
   ]
  },
  {
   "cell_type": "markdown",
   "metadata": {},
   "source": [
    "Here we can see that the restore statement successfully repopulated the data queue, letting us read the data again and store it into different varaibles."
   ]
  },
  {
   "cell_type": "markdown",
   "metadata": {},
   "source": [
    "### DEF FN \n",
    "\n",
    "This is Vintage BASIC's user defined function declaration statement. I'm pretty happy with how this one turned out. \n",
    "The purpose of my implementation of VB having a scopable symbol table is to handle the assignments between formal and actual parameters, making sure we don't accidently overwrite a variable. Here are a few examples:"
   ]
  },
  {
   "cell_type": "code",
   "execution_count": 12,
   "metadata": {},
   "outputs": [
    {
     "name": "stdout",
     "output_type": "stream",
     "text": [
      "2\n"
     ]
    }
   ],
   "source": [
    "prog = \\\n",
    "'''\n",
    "10 DEF FN inc(x) = x + 1\n",
    "20 LET y = inc(1)\n",
    "30 PRINT y\n",
    "'''\n",
    "interp(prog)"
   ]
  },
  {
   "cell_type": "markdown",
   "metadata": {},
   "source": [
    "Here we can see the function worked correctly."
   ]
  },
  {
   "cell_type": "code",
   "execution_count": 13,
   "metadata": {},
   "outputs": [
    {
     "name": "stdout",
     "output_type": "stream",
     "text": [
      "2 32\n"
     ]
    }
   ],
   "source": [
    "prog = \\\n",
    "'''\n",
    "06 LET x = 32\n",
    "10 DEF FN inc(x) = x + 1\n",
    "20 LET y = inc(1)\n",
    "30 PRINT y;x\n",
    "'''\n",
    "interp(prog)"
   ]
  },
  {
   "cell_type": "markdown",
   "metadata": {},
   "source": [
    "Here we see the purpose of our scopable symbol table, the x variable was never written over."
   ]
  },
  {
   "cell_type": "code",
   "execution_count": 14,
   "metadata": {},
   "outputs": [
    {
     "name": "stdout",
     "output_type": "stream",
     "text": [
      "8.0\n"
     ]
    }
   ],
   "source": [
    "prog = \\\n",
    "'''\n",
    "10 DEF FN func (x , y , z) = x * y + SQR (z)\n",
    "20 LET a = 2\n",
    "22 LET b = 2\n",
    "26 LET y = func( a , b , 16) \n",
    "30 PRINT y\n",
    "'''\n",
    "interp(prog)"
   ]
  },
  {
   "cell_type": "markdown",
   "metadata": {},
   "source": [
    "NOTE: sqr() is Vintage BASIC squareroot function  \n",
    "2 * 2 + sqrt(16) = 4 + 4 = 8   \n",
    "Our function worked correctly."
   ]
  },
  {
   "cell_type": "markdown",
   "metadata": {},
   "source": [
    "### END / STOP\n",
    "The end and stop statements stop execution of the program. I handled this by throwing a custom exception when one of these statements are encountered.\n",
    "There can only be one end statement traditionally in Vintage BASIC, found at the end of a program. Stop statements direct the flow of the program to the end statement.  \n",
    "In my implementation, stop statements are actually constructed as end nodes in the frontend grammar, leaving no difference between the two."
   ]
  },
  {
   "cell_type": "code",
   "execution_count": 15,
   "metadata": {},
   "outputs": [
    {
     "name": "stdout",
     "output_type": "stream",
     "text": [
      "1\n",
      "2\n",
      "3\n"
     ]
    }
   ],
   "source": [
    "prog = \\\n",
    "'''\n",
    "10 PRINT \"1\"\n",
    "20 PRINT \"2\"\n",
    "30 PRINT \"3\"\n",
    "35 END\n",
    "40 PRINT \"4\"\n",
    "50 PRINT \"5\"\n",
    "'''\n",
    "interp(prog)"
   ]
  },
  {
   "cell_type": "code",
   "execution_count": 16,
   "metadata": {},
   "outputs": [
    {
     "name": "stdout",
     "output_type": "stream",
     "text": [
      "1\n",
      "2\n",
      "3\n"
     ]
    }
   ],
   "source": [
    "prog = \\\n",
    "'''\n",
    "10 PRINT \"1\"\n",
    "20 PRINT \"2\"\n",
    "30 PRINT \"3\"\n",
    "35 STOP\n",
    "40 PRINT \"4\"\n",
    "50 PRINT \"5\"\n",
    "'''\n",
    "interp(prog)"
   ]
  },
  {
   "cell_type": "markdown",
   "metadata": {},
   "source": [
    "As you can see, the stop and end statements stop execution of the program."
   ]
  },
  {
   "cell_type": "markdown",
   "metadata": {},
   "source": [
    "### IF THEN\n",
    "A traditional if statement. If the passed in expression evaluates to true, then we execute the associated code.\n",
    "We have two forms of an if statement here:\n",
    "#### IF EXP THEN STMTS\n",
    "If the passed in expression is not equal to 0, we execute the statements.  \n",
    "Examples:  \n",
    "1 - handle basic expression  \n",
    "2 - handle binary expression  \n",
    "3 - handle varaible in expression  \n",
    "4 - handle logical expression  "
   ]
  },
  {
   "cell_type": "code",
   "execution_count": 17,
   "metadata": {},
   "outputs": [
    {
     "name": "stdout",
     "output_type": "stream",
     "text": [
      "We should see this in the output.\n"
     ]
    }
   ],
   "source": [
    "prog = \\\n",
    "'''\n",
    "10 IF 1 THEN PRINT \"We should see this in the output.\"\n",
    "20 IF 0 THEN PRINT \"We should NOT see this in the output.\"\n",
    "'''\n",
    "interp(prog)"
   ]
  },
  {
   "cell_type": "code",
   "execution_count": 18,
   "metadata": {},
   "outputs": [
    {
     "name": "stdout",
     "output_type": "stream",
     "text": [
      "We should see this in the output.\n"
     ]
    }
   ],
   "source": [
    "prog = \\\n",
    "'''\n",
    "10 IF 13 - 12 THEN PRINT \"We should see this in the output.\"\n",
    "20 IF 123 * 0 THEN PRINT \"We should NOT see this in the output.\"\n",
    "'''\n",
    "interp(prog)"
   ]
  },
  {
   "cell_type": "code",
   "execution_count": 19,
   "metadata": {},
   "outputs": [
    {
     "name": "stdout",
     "output_type": "stream",
     "text": [
      "We should see this in the output.\n"
     ]
    }
   ],
   "source": [
    "prog = \\\n",
    "'''\n",
    "05 LET y = 3 - 2\n",
    "06 DEF FN timesZero(x) = x * 0\n",
    "07 LET z = timesZero(40) \n",
    "10 IF y THEN PRINT \"We should see this in the output.\"\n",
    "20 IF z THEN PRINT \"We should NOT see this in the output.\"\n",
    "'''\n",
    "interp(prog)"
   ]
  },
  {
   "cell_type": "code",
   "execution_count": 20,
   "metadata": {},
   "outputs": [
    {
     "name": "stdout",
     "output_type": "stream",
     "text": [
      "We should see this in the output.\n"
     ]
    }
   ],
   "source": [
    "prog = \\\n",
    "'''\n",
    "10 IF 1 > 0 THEN PRINT \"We should see this in the output.\"\n",
    "20 IF 0 < -1 THEN PRINT \"We should NOT see this in the output.\"\n",
    "'''\n",
    "interp(prog)"
   ]
  },
  {
   "cell_type": "markdown",
   "metadata": {},
   "source": [
    "#### IF EXP THEN LABEL\n",
    "This if switch form evalutes the expression, if its not 0 then the control of the program switches to the designated label."
   ]
  },
  {
   "cell_type": "code",
   "execution_count": 21,
   "metadata": {},
   "outputs": [
    {
     "name": "stdout",
     "output_type": "stream",
     "text": [
      "a\n",
      "c\n"
     ]
    }
   ],
   "source": [
    "prog = \\\n",
    "'''\n",
    "10 PRINT \"a\"\n",
    "15 IF 1 THEN 30\n",
    "20 PRINT \"b\"\n",
    "30 PRINT \"c\"\n",
    "'''\n",
    "interp(prog)"
   ]
  },
  {
   "cell_type": "markdown",
   "metadata": {},
   "source": [
    "Here we see the interpreter correctly jumped lines."
   ]
  },
  {
   "cell_type": "code",
   "execution_count": 22,
   "metadata": {},
   "outputs": [
    {
     "name": "stdout",
     "output_type": "stream",
     "text": [
      "a\n",
      "b\n",
      "c\n",
      "d\n",
      "e\n"
     ]
    }
   ],
   "source": [
    "prog = \\\n",
    "'''\n",
    "10 PRINT \"a\"\n",
    "15 IF 99 - 33 * 3 THEN 40\n",
    "20 PRINT \"b\"\n",
    "30 PRINT \"c\"\n",
    "40 PRINT \"d\"\n",
    "60 PRINT \"e\"\n",
    "'''\n",
    "interp(prog)"
   ]
  },
  {
   "cell_type": "markdown",
   "metadata": {},
   "source": [
    "Here we see it did not jump when the expression evaluated to false."
   ]
  },
  {
   "cell_type": "markdown",
   "metadata": {},
   "source": [
    "### DIM\n",
    "The dim statement creates an array. It should create an array of varaible size and dimensions based on its passed in values. We didn't get to far into array impementation in class, and I had a little trouble here at first. My current implementation supports arrays of one dimension. It utilizes Python lists. The size space is reserved by printing zero to undeclared elements.  \n",
    "The first example shows that we can store and retrieve values.  \n",
    "The second examples shows we can use these variables within our math."
   ]
  },
  {
   "cell_type": "code",
   "execution_count": 23,
   "metadata": {},
   "outputs": [
    {
     "name": "stdout",
     "output_type": "stream",
     "text": [
      "7\n",
      "1 2 3 4\n"
     ]
    }
   ],
   "source": [
    "prog = \\\n",
    "'''\n",
    "10 DIM arr (5)\n",
    "20 LET arr[3] = 7\n",
    "30 PRINT arr[3]\n",
    "40 DATA 1,2,3,4\n",
    "50 READ arr[0],arr[1],arr[2],arr[4]\n",
    "60 PRINT arr[0];arr[1];arr[2];arr[4]\n",
    "'''\n",
    "interp(prog)"
   ]
  },
  {
   "cell_type": "code",
   "execution_count": 24,
   "metadata": {},
   "outputs": [
    {
     "name": "stdout",
     "output_type": "stream",
     "text": [
      "4\n"
     ]
    }
   ],
   "source": [
    "prog = \\\n",
    "'''\n",
    "10 DEF FN inc(x) = x + 1\n",
    "20 DIM arr (3)\n",
    "30 LET arr[0] = 2\n",
    "40 LET arr[1] = arr[0] + inc(1)\n",
    "50 PRINT arr[1]\n",
    "'''\n",
    "interp(prog)"
   ]
  },
  {
   "cell_type": "markdown",
   "metadata": {},
   "source": [
    "Here we can see we recieve consistant outputs when using the array object elements within our calculations."
   ]
  },
  {
   "cell_type": "markdown",
   "metadata": {},
   "source": [
    "### REM\n",
    "This is just Vintage BASICs comments.\n",
    "Nothing within these lines has any effect on the program\n",
    "The are parsed into the tree structure as they have labels and may be a valid destination of jump commands."
   ]
  },
  {
   "cell_type": "code",
   "execution_count": 25,
   "metadata": {},
   "outputs": [
    {
     "name": "stdout",
     "output_type": "stream",
     "text": [
      "1\n"
     ]
    }
   ],
   "source": [
    "prog = \\\n",
    "'''\n",
    "10 LET x = 1\n",
    "20 REM Here we can write our comments\n",
    "30 PRINT x\n",
    "'''\n",
    "interp(prog)"
   ]
  },
  {
   "cell_type": "markdown",
   "metadata": {},
   "source": [
    "### FOR NEXT\n",
    "I had trouble here, as I had to go to office hours to try and figure out a way to parse this structure. After being able to parse the loops, it was pretty straight forward as we have done a few of these in past assignments. "
   ]
  },
  {
   "cell_type": "code",
   "execution_count": 26,
   "metadata": {},
   "outputs": [
    {
     "name": "stdout",
     "output_type": "stream",
     "text": [
      "0\n",
      "1\n",
      "2\n",
      "3\n",
      "4\n",
      "5\n",
      "6\n",
      "7\n",
      "8\n",
      "9\n",
      "10\n",
      "11\n",
      "12\n",
      "13\n",
      "14\n",
      "15\n",
      "16\n",
      "17\n",
      "18\n",
      "19\n"
     ]
    }
   ],
   "source": [
    "prog = \\\n",
    "'''\n",
    "10 FOR x = 0 TO 20\n",
    "20 PRINT x\n",
    "30 NEXT x\n",
    "'''\n",
    "interp(prog)"
   ]
  },
  {
   "cell_type": "code",
   "execution_count": 27,
   "metadata": {},
   "outputs": [
    {
     "name": "stdout",
     "output_type": "stream",
     "text": [
      "0\n",
      "2\n",
      "4\n",
      "6\n",
      "8\n",
      "10\n",
      "12\n",
      "14\n",
      "16\n",
      "18\n"
     ]
    }
   ],
   "source": [
    "prog = \\\n",
    "'''\n",
    "10 FOR x = 0 TO 20 STEP 2\n",
    "20 PRINT x\n",
    "30 NEXT x\n",
    "'''\n",
    "interp(prog)"
   ]
  },
  {
   "cell_type": "code",
   "execution_count": 28,
   "metadata": {},
   "outputs": [
    {
     "name": "stdout",
     "output_type": "stream",
     "text": [
      "19\n",
      "17\n",
      "15\n",
      "13\n",
      "11\n",
      "9\n",
      "7\n",
      "5\n",
      "3\n",
      "1\n"
     ]
    }
   ],
   "source": [
    "prog = \\\n",
    "'''\n",
    "05 DEF FN dec(x) = x - 1\n",
    "10 FOR x = 20 TO 0 STEP -2\n",
    "20 PRINT dec(x)\n",
    "30 NEXT x\n",
    "'''\n",
    "interp(prog)"
   ]
  },
  {
   "cell_type": "markdown",
   "metadata": {},
   "source": [
    "#### FOR loop 1 line\n",
    "Here we demonstrate the second form a for loop may take in Vintage BASIC. A loop may entirely be placed on one line."
   ]
  },
  {
   "cell_type": "code",
   "execution_count": 35,
   "metadata": {},
   "outputs": [
    {
     "name": "stdout",
     "output_type": "stream",
     "text": [
      "0\n",
      " *\n",
      "1\n",
      " *\n",
      "2\n",
      " *\n",
      "3\n",
      " *\n",
      "4\n",
      " *\n",
      "5\n",
      " *\n",
      "6\n",
      " *\n",
      "7\n",
      " *\n",
      "8\n",
      " *\n",
      "9\n",
      " *\n"
     ]
    }
   ],
   "source": [
    "prog = \\\n",
    "'''\n",
    "10 FOR x = 0 TO 10 STEP 1 : PRINT x : PRINT \" *\" : NEXT x\n",
    "'''\n",
    "interp(prog)"
   ]
  },
  {
   "cell_type": "markdown",
   "metadata": {},
   "source": [
    "Our last test shows us that our second form is correctly interpreted."
   ]
  },
  {
   "cell_type": "markdown",
   "metadata": {},
   "source": [
    "### GOTO / GOSUB RETURN\n",
    "These Vintage BASIC statements change the control flow of the current execution to the designated line. As described in my implementation introduction, I indexed each line in parallel lists, i need only to change the index when I encounter these statements in my interpreter. My implementation of GOSUB jumps to the label and continues the program inside a try/catch that catches an exception thrown by the RETURN statement.\n",
    "#### GOTO \n",
    "The goto statement changes the current line that the program is executing to the desired line.\n",
    "#### GOSUB RETURN\n",
    "The gosub statement changes the current line that the program is executing to the desired line, then returns after encountering a return statement.  \n",
    "  \n",
    "Here is an example of both:"
   ]
  },
  {
   "cell_type": "code",
   "execution_count": 39,
   "metadata": {},
   "outputs": [
    {
     "name": "stdout",
     "output_type": "stream",
     "text": [
      "A\n",
      "B\n",
      "C\n",
      "D\n"
     ]
    }
   ],
   "source": [
    "prog = \\\n",
    "'''\n",
    "10 GOSUB 50\n",
    "20 PRINT \"C\"\n",
    "30 PRINT \"D\"\n",
    "40 END\n",
    "50 PRINT \"A\"\n",
    "60 PRINT \"B\"\n",
    "70 RETURN\n",
    "'''\n",
    "interp(prog)"
   ]
  },
  {
   "cell_type": "code",
   "execution_count": 40,
   "metadata": {},
   "outputs": [
    {
     "name": "stdout",
     "output_type": "stream",
     "text": [
      "A\n",
      "B\n",
      "C\n",
      "D\n"
     ]
    }
   ],
   "source": [
    "prog = \\\n",
    "'''\n",
    "10 GOTO 60\n",
    "20 PRINT \"We never go here\"\n",
    "30 PRINT \"A\"\n",
    "40 PRINT \"B\"\n",
    "50 RETURN\n",
    "55 PRINT \"We never go here either\"\n",
    "60 GOSUB 30\n",
    "70 PRINT \"C\"\n",
    "80 PRINT \"D\"\n",
    "'''\n",
    "interp(prog)"
   ]
  },
  {
   "cell_type": "markdown",
   "metadata": {},
   "source": [
    "Here we see that the flow control of the program was handled correctly."
   ]
  },
  {
   "cell_type": "markdown",
   "metadata": {},
   "source": [
    "### LET\n",
    "This is the assignment statement in Vintage BASIC. Nothing fancy here, variable's values are stored in the state objects symbol table."
   ]
  },
  {
   "cell_type": "code",
   "execution_count": 41,
   "metadata": {},
   "outputs": [
    {
     "name": "stdout",
     "output_type": "stream",
     "text": [
      "100 def 100\n"
     ]
    }
   ],
   "source": [
    "prog = \\\n",
    "'''\n",
    "10 LET a = 100\n",
    "20 LET b = \"abc\"\n",
    "30 LET c = 25 * 4\n",
    "40 IF a == c THEN LET b = \"def\"\n",
    "50 PRINT a;b;c\n",
    "'''\n",
    "interp(prog)"
   ]
  },
  {
   "cell_type": "markdown",
   "metadata": {},
   "source": [
    "We can see that the ouput is consistant with the variables holding their correct values.   \n",
    "The actual LET key word is optional, this is shown below."
   ]
  },
  {
   "cell_type": "code",
   "execution_count": 42,
   "metadata": {},
   "outputs": [
    {
     "name": "stdout",
     "output_type": "stream",
     "text": [
      "4.0\n"
     ]
    }
   ],
   "source": [
    "prog = \\\n",
    "'''\n",
    "10 x = 12 / 3\n",
    "20 PRINT x\n",
    "'''\n",
    "interp(prog)"
   ]
  },
  {
   "cell_type": "markdown",
   "metadata": {},
   "source": [
    "### ON \n",
    "This statement evaluates an expression passed into it, the result of the expression is used to index into a list of labels, also passed into it, to determine where the flow control of the program should go to next.  \n",
    "Nothing fancy in the implementation, the expression is just walked and evaluted, then a GOTO statement to the appropriate label is walked.\n",
    "\n",
    "#### First form: ON exp GOTO labels\n",
    "Here are some examples of it working.."
   ]
  },
  {
   "cell_type": "code",
   "execution_count": 44,
   "metadata": {},
   "outputs": [
    {
     "name": "stdout",
     "output_type": "stream",
     "text": [
      "c\n",
      "d\n",
      "e\n"
     ]
    }
   ],
   "source": [
    "prog = \\\n",
    "'''\n",
    "10 ON 3 GOTO 20 , 30 , 40 , 50 , 60\n",
    "20 PRINT \"a\"\n",
    "30 PRINT \"b\"\n",
    "40 PRINT \"c\"\n",
    "50 PRINT \"d\"\n",
    "60 PRINT \"e\"\n",
    "'''\n",
    "interp(prog)"
   ]
  },
  {
   "cell_type": "markdown",
   "metadata": {},
   "source": [
    "As our expression was 3, we skip to the third label in the list."
   ]
  },
  {
   "cell_type": "code",
   "execution_count": 45,
   "metadata": {},
   "outputs": [
    {
     "name": "stdout",
     "output_type": "stream",
     "text": [
      "d\n",
      "e\n"
     ]
    }
   ],
   "source": [
    "prog = \\\n",
    "'''\n",
    "01 LET x = 12\n",
    "10 ON x / 3 GOTO 20 , 30 , 40 , 50 , 60\n",
    "20 PRINT \"a\"\n",
    "30 PRINT \"b\"\n",
    "40 PRINT \"c\"\n",
    "50 PRINT \"d\"\n",
    "60 PRINT \"e\"\n",
    "'''\n",
    "interp(prog)"
   ]
  },
  {
   "cell_type": "markdown",
   "metadata": {},
   "source": [
    "Here we see it can properly evaluates expressions as well."
   ]
  },
  {
   "cell_type": "markdown",
   "metadata": {},
   "source": [
    "#### Second form: ON exp GOSUB labels\n",
    "Very similiar to the first form, only now we need to keep an eye out for return statements as we will return flow control to the line following the on statement when we encounter a return statement."
   ]
  },
  {
   "cell_type": "code",
   "execution_count": 46,
   "metadata": {},
   "outputs": [
    {
     "name": "stdout",
     "output_type": "stream",
     "text": [
      "c\n",
      "d\n",
      "e\n",
      "f\n"
     ]
    }
   ],
   "source": [
    "prog = \\\n",
    "'''\n",
    "10 GOTO 80\n",
    "20 PRINT \"a\"\n",
    "30 PRINT \"b\"\n",
    "40 PRINT \"c\"\n",
    "50 PRINT \"d\"\n",
    "60 PRINT \"e\"\n",
    "70 RETURN\n",
    "80 ON 3 GOSUB 20 , 30 , 40 , 50 , 60\n",
    "90 PRINT \"f\"\n",
    "'''\n",
    "interp(prog)"
   ]
  },
  {
   "cell_type": "code",
   "execution_count": 47,
   "metadata": {},
   "outputs": [
    {
     "name": "stdout",
     "output_type": "stream",
     "text": [
      "d\n",
      "e\n",
      "f\n"
     ]
    }
   ],
   "source": [
    "prog = \\\n",
    "'''\n",
    "05 LET x = 20\n",
    "10 GOTO 80\n",
    "20 PRINT \"a\"\n",
    "30 PRINT \"b\"\n",
    "40 PRINT \"c\"\n",
    "50 PRINT \"d\"\n",
    "60 PRINT \"e\"\n",
    "70 RETURN\n",
    "80 ON x / 5 GOSUB 20 , 30 , 40 , 50 , 60\n",
    "90 PRINT \"f\"\n",
    "'''\n",
    "interp(prog)"
   ]
  },
  {
   "cell_type": "markdown",
   "metadata": {},
   "source": [
    "## BUILT-IN FUNCTIONS\n",
    "Below I will run a few tests to show that the built-in functions for the interpreter work.  \n",
    "#### TRIGONOMETRIC FUNCTIONS  \n",
    "Some basic examples below, results are returned as floating point values.  \n",
    "SIN = Sine   \n",
    "COS = Cosine  \n",
    "TAN = Tangent  \n",
    "ATN = ArcTangent"
   ]
  },
  {
   "cell_type": "code",
   "execution_count": 48,
   "metadata": {},
   "outputs": [
    {
     "name": "stdout",
     "output_type": "stream",
     "text": [
      "0.8414709848078965 0.5403023058681398 1.5574077246549023 0.7853981633974483\n"
     ]
    }
   ],
   "source": [
    "prog = \\\n",
    "'''\n",
    "10 LET a = SIN(1)\n",
    "20 LET b = COS(1)\n",
    "30 LET c = TAN(1)\n",
    "40 LET d = ATN(1)\n",
    "50 PRINT a;b;c;d\n",
    "'''\n",
    "interp(prog)"
   ]
  },
  {
   "cell_type": "markdown",
   "metadata": {},
   "source": [
    "By using a calculator to check, we can see that the correct values were output by these functions."
   ]
  },
  {
   "cell_type": "markdown",
   "metadata": {},
   "source": [
    "#### STRING FUNCTIONS\n",
    "Below are some tests of the built in Vintage BASIC functions that work with strings.  \n",
    "  \n",
    "  \n",
    "LEFT = cuts chars off the left side of the string based on input expression  \n",
    "RIGHT = cuts chars off the right side of the string based on input expression  \n",
    "MID = cuts chars off the left and right sides of the string based on input expressions  \n",
    "LEN = returns the length of the passed in string  \n",
    "SPC = returns an string of empty spaces of length equal to the passed in expression"
   ]
  },
  {
   "cell_type": "code",
   "execution_count": 49,
   "metadata": {},
   "outputs": [
    {
     "name": "stdout",
     "output_type": "stream",
     "text": [
      "abcdefghijklmnopqrstuvwxyz\n",
      "fghijklmnopqrstuvwxyz\n",
      "abcdefghijklmnopqrstu\n",
      "fghijklmnopqrstu\n",
      "26\n",
      "!          !\n"
     ]
    }
   ],
   "source": [
    "prog = \\\n",
    "'''\n",
    "10 LET a = \"abcdefghijklmnopqrstuvwxyz\"\n",
    "20 LET b = LEFT( a , 5 )\n",
    "30 LET c = RIGHT( a , 5 )\n",
    "40 LET d = MID( a , 5, 5)\n",
    "50 LET e = LEN(a)\n",
    "60 LET f = SPC(10)\n",
    "70 PRINT a : PRINT b : PRINT c : PRINT d : PRINT e\n",
    "80 PRINT \"!\" , f , \"!\"\n",
    "'''\n",
    "interp(prog)"
   ]
  },
  {
   "cell_type": "markdown",
   "metadata": {},
   "source": [
    "As we can see, these string operators correctly "
   ]
  },
  {
   "cell_type": "markdown",
   "metadata": {},
   "source": [
    "#### OTHER MATH FUNCTIONS  \n",
    "Here we will test out some of the other math functions to show that they work correctly.  \n",
    "  \n",
    "  \n",
    "ABS = returns absolute value of the passed in expression  \n",
    "EXP = returns the number e raised to the power of the expression  \n",
    "LOG = returns the logarithm, to base e, of the expression  \n",
    "SGN = returns -1 if the expression is negative, 0 if it is zero, or 1 if it is positive  \n",
    "SQR = returns the square root on the passed in expression  \n",
    "VAL = attempts to read the string expression as a floating-point number.\n",
    "                                            "
   ]
  },
  {
   "cell_type": "code",
   "execution_count": 50,
   "metadata": {},
   "outputs": [
    {
     "name": "stdout",
     "output_type": "stream",
     "text": [
      "100\n",
      "22026.465794806703\n",
      "2.302585092994046\n",
      "-1\n",
      "1\n",
      "4.0\n",
      "20.0\n"
     ]
    }
   ],
   "source": [
    "prog = \\\n",
    "'''\n",
    "10 LET a = ABS(-100)\n",
    "20 LET b = EXP(10)\n",
    "30 LET c = LOG(10)\n",
    "40 LET d = SGN(-56)\n",
    "50 LET e = SGN(10)\n",
    "60 LET f = SQR(16)\n",
    "70 LET g = VAL(\"10\") + 10\n",
    "80 PRINT a : PRINT b : PRINT c : PRINT d : PRINT e : PRINT f : PRINT g\n",
    "'''\n",
    "interp(prog)"
   ]
  },
  {
   "cell_type": "markdown",
   "metadata": {},
   "source": [
    "As we can see by observing the outputs, these built in functions are operating correctly."
   ]
  },
  {
   "cell_type": "markdown",
   "metadata": {},
   "source": [
    "#### OTHER FUNCTIONS  \n",
    "Here is where I will demonstrate that the other functions which do not fit into the previous 2 catagories work.  \n",
    "RND(x) = Vintage BASICS Random function:  \n",
    "if x > 0 then return a random number between 0 and 1  \n",
    "if x < 0 then reseed the number generator   \n",
    "if x == 0 return the last random number generated.\n"
   ]
  },
  {
   "cell_type": "code",
   "execution_count": 51,
   "metadata": {},
   "outputs": [
    {
     "name": "stdout",
     "output_type": "stream",
     "text": [
      "0.763774618976614\n",
      "0.763774618976614\n",
      "0.2550690257394217\n",
      "0.2550690257394217\n"
     ]
    }
   ],
   "source": [
    "prog = \\\n",
    "'''\n",
    "10 PRINT RND(1)\n",
    "20 PRINT RND(0)\n",
    "30 PRINT RND(1)\n",
    "40 PRINT RND(0)\n",
    "'''\n",
    "interp(prog)"
   ]
  },
  {
   "cell_type": "markdown",
   "metadata": {},
   "source": [
    "As we can see by the given outputs, the random number generator is working."
   ]
  },
  {
   "cell_type": "markdown",
   "metadata": {},
   "source": [
    "#### ASCII FUNCTIONS\n",
    "ASC = returns then ASCII character value of the first char in the passed in string  \n",
    "CHR = returns a single-character string with the specified ASCII value  "
   ]
  },
  {
   "cell_type": "code",
   "execution_count": 52,
   "metadata": {},
   "outputs": [
    {
     "name": "stdout",
     "output_type": "stream",
     "text": [
      "116\n",
      "t\n",
      "119\n",
      "w\n"
     ]
    }
   ],
   "source": [
    "prog = \\\n",
    "'''\n",
    "10 LET x = ASC(\"test\")\n",
    "20 PRINT x\n",
    "30 LET y = CHR(x)\n",
    "40 PRINT y\n",
    "50 LET x = ASC(\"word\")\n",
    "60 PRINT x\n",
    "70 LET y = CHR(x)\n",
    "80 PRINT y\n",
    "'''\n",
    "interp(prog)"
   ]
  },
  {
   "cell_type": "markdown",
   "metadata": {},
   "source": [
    "As we can observe by the given outputs of the functions, the ASCII functions are operating correctly."
   ]
  },
  {
   "cell_type": "markdown",
   "metadata": {},
   "source": [
    "# Conclusions\n",
    "I learned a lot through the process of constructing this interpreter, and I have quite a few ideas for improvements. These are some of the better examples. \n",
    "  \n",
    "  \n",
    "\\- First of all, concerning my key data structure of 2 parallel lists, I think that this could be done in a more elegent way in a language that allows the use of pointers. Pointers allow us to index into a specific memory space. Had I had access to pointers when construcing this inerpreter, I imagine I would not have needed to use lists at all. When parsing the program, Each labels location in memory could be indexed instead in a symbol table. This would allow us to iterate through the program and switch flow control within a nested tuple structure by using these pointers as opposed to needing to index into a list.   \n",
    "  \n",
    "\\- I would really like to find a method of handling for loops that may have a changing structure. In such an implementation, when encountering a next node, we would need to immediatly recurse up the tree until we get to the appropriate for node. Perhaps such a system could be implemented by throwing custom exceptions. Each FOR node would continue the code in a try statement, while each NEXT statement would throw the type of error the FOR was looking for. The FOR node could then check to see if the recieved variabel is the right one, and if not throw it again until it gets to the right FOR node. I think this would be a good challange to implemenet if I had more time.  \n",
    "  \n",
    "\\- I based my interpreter contruction on the Vintage BASIC homepage documentation. There exist a few minor inconsistancies accross the interpretation in syntax that could be cleaned up to more exactly emulate the interpreted language. \n",
    "\n",
    "\\- I could also improve upon the typing. There is not much to typing in Vintage BASIC. However, it appears that there is a varaible naming structure; Specifically, string varaibles should end with the $ character. This is something I had overlooked. At current, typing is handled behind the scenes to emulate Vintage BASIC. My implementation handles what you should be able to do and not be able to do concerning types pretty well.\n",
    "  \n",
    "Have a nice holiday!"
   ]
  },
  {
   "cell_type": "code",
   "execution_count": null,
   "metadata": {},
   "outputs": [],
   "source": []
  }
 ],
 "metadata": {
  "kernelspec": {
   "display_name": "Python 3",
   "language": "python",
   "name": "python3"
  },
  "language_info": {
   "codemirror_mode": {
    "name": "ipython",
    "version": 3
   },
   "file_extension": ".py",
   "mimetype": "text/x-python",
   "name": "python",
   "nbconvert_exporter": "python",
   "pygments_lexer": "ipython3",
   "version": "3.7.3"
  }
 },
 "nbformat": 4,
 "nbformat_minor": 2
}
